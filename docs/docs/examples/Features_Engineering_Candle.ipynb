{
 "cells": [
  {
   "cell_type": "markdown",
   "id": "aad73125-7126-4ed3-a5c0-52cf6357e53e",
   "metadata": {},
   "source": [
    "# Features Engineering - Candle\n",
    "\n",
    "**Parler de la forme des données**"
   ]
  },
  {
   "cell_type": "code",
   "execution_count": 1,
   "id": "9b829785-539f-44b2-bb50-783ac6e138fc",
   "metadata": {},
   "outputs": [],
   "source": [
    "import numpy as np\n",
    "import pandas as pd\n",
    "import matplotlib.pyplot as plt\n",
    "import seaborn as sns\n",
    "sns.set_style(\"whitegrid\")"
   ]
  },
  {
   "cell_type": "code",
   "execution_count": 5,
   "id": "455bfd9b-d049-4b77-9478-39b353cd8aeb",
   "metadata": {},
   "outputs": [
    {
     "data": {
      "text/html": [
       "<div>\n",
       "<style scoped>\n",
       "    .dataframe tbody tr th:only-of-type {\n",
       "        vertical-align: middle;\n",
       "    }\n",
       "\n",
       "    .dataframe tbody tr th {\n",
       "        vertical-align: top;\n",
       "    }\n",
       "\n",
       "    .dataframe thead th {\n",
       "        text-align: right;\n",
       "    }\n",
       "</style>\n",
       "<table border=\"1\" class=\"dataframe\">\n",
       "  <thead>\n",
       "    <tr style=\"text-align: right;\">\n",
       "      <th></th>\n",
       "      <th>open</th>\n",
       "      <th>high</th>\n",
       "      <th>low</th>\n",
       "      <th>close</th>\n",
       "      <th>volume</th>\n",
       "    </tr>\n",
       "    <tr>\n",
       "      <th>time</th>\n",
       "      <th></th>\n",
       "      <th></th>\n",
       "      <th></th>\n",
       "      <th></th>\n",
       "      <th></th>\n",
       "    </tr>\n",
       "  </thead>\n",
       "  <tbody>\n",
       "    <tr>\n",
       "      <th>2015-05-11 20:00:00</th>\n",
       "      <td>1.11579</td>\n",
       "      <td>1.11695</td>\n",
       "      <td>1.11460</td>\n",
       "      <td>1.11542</td>\n",
       "      <td>0</td>\n",
       "    </tr>\n",
       "    <tr>\n",
       "      <th>2015-05-12 00:00:00</th>\n",
       "      <td>1.11549</td>\n",
       "      <td>1.11574</td>\n",
       "      <td>1.11340</td>\n",
       "      <td>1.11398</td>\n",
       "      <td>0</td>\n",
       "    </tr>\n",
       "    <tr>\n",
       "      <th>2015-05-12 04:00:00</th>\n",
       "      <td>1.11398</td>\n",
       "      <td>1.11727</td>\n",
       "      <td>1.11361</td>\n",
       "      <td>1.11711</td>\n",
       "      <td>0</td>\n",
       "    </tr>\n",
       "    <tr>\n",
       "      <th>2015-05-12 08:00:00</th>\n",
       "      <td>1.11712</td>\n",
       "      <td>1.12679</td>\n",
       "      <td>1.11668</td>\n",
       "      <td>1.12583</td>\n",
       "      <td>0</td>\n",
       "    </tr>\n",
       "    <tr>\n",
       "      <th>2015-05-12 12:00:00</th>\n",
       "      <td>1.12584</td>\n",
       "      <td>1.12785</td>\n",
       "      <td>1.12265</td>\n",
       "      <td>1.12283</td>\n",
       "      <td>0</td>\n",
       "    </tr>\n",
       "    <tr>\n",
       "      <th>...</th>\n",
       "      <td>...</td>\n",
       "      <td>...</td>\n",
       "      <td>...</td>\n",
       "      <td>...</td>\n",
       "      <td>...</td>\n",
       "    </tr>\n",
       "    <tr>\n",
       "      <th>2024-11-13 04:00:00</th>\n",
       "      <td>1.06277</td>\n",
       "      <td>1.06290</td>\n",
       "      <td>1.06092</td>\n",
       "      <td>1.06127</td>\n",
       "      <td>0</td>\n",
       "    </tr>\n",
       "    <tr>\n",
       "      <th>2024-11-13 08:00:00</th>\n",
       "      <td>1.06127</td>\n",
       "      <td>1.06295</td>\n",
       "      <td>1.05931</td>\n",
       "      <td>1.06266</td>\n",
       "      <td>0</td>\n",
       "    </tr>\n",
       "    <tr>\n",
       "      <th>2024-11-13 12:00:00</th>\n",
       "      <td>1.06265</td>\n",
       "      <td>1.06539</td>\n",
       "      <td>1.06097</td>\n",
       "      <td>1.06362</td>\n",
       "      <td>0</td>\n",
       "    </tr>\n",
       "    <tr>\n",
       "      <th>2024-11-13 16:00:00</th>\n",
       "      <td>1.06362</td>\n",
       "      <td>1.06376</td>\n",
       "      <td>1.05554</td>\n",
       "      <td>1.05685</td>\n",
       "      <td>0</td>\n",
       "    </tr>\n",
       "    <tr>\n",
       "      <th>2024-11-13 20:00:00</th>\n",
       "      <td>1.05688</td>\n",
       "      <td>1.05755</td>\n",
       "      <td>1.05562</td>\n",
       "      <td>1.05639</td>\n",
       "      <td>0</td>\n",
       "    </tr>\n",
       "  </tbody>\n",
       "</table>\n",
       "<p>14792 rows × 5 columns</p>\n",
       "</div>"
      ],
      "text/plain": [
       "                        open     high      low    close  volume\n",
       "time                                                           \n",
       "2015-05-11 20:00:00  1.11579  1.11695  1.11460  1.11542       0\n",
       "2015-05-12 00:00:00  1.11549  1.11574  1.11340  1.11398       0\n",
       "2015-05-12 04:00:00  1.11398  1.11727  1.11361  1.11711       0\n",
       "2015-05-12 08:00:00  1.11712  1.12679  1.11668  1.12583       0\n",
       "2015-05-12 12:00:00  1.12584  1.12785  1.12265  1.12283       0\n",
       "...                      ...      ...      ...      ...     ...\n",
       "2024-11-13 04:00:00  1.06277  1.06290  1.06092  1.06127       0\n",
       "2024-11-13 08:00:00  1.06127  1.06295  1.05931  1.06266       0\n",
       "2024-11-13 12:00:00  1.06265  1.06539  1.06097  1.06362       0\n",
       "2024-11-13 16:00:00  1.06362  1.06376  1.05554  1.05685       0\n",
       "2024-11-13 20:00:00  1.05688  1.05755  1.05562  1.05639       0\n",
       "\n",
       "[14792 rows x 5 columns]"
      ]
     },
     "execution_count": 5,
     "metadata": {},
     "output_type": "execute_result"
    }
   ],
   "source": [
    "# Import example data\n",
    "df = pd.read_parquet(\"ML_Strategy_4H_EURUSD.parquet\")[[\"open\",\"high\",\"low\",\"close\"]]\n",
    "df[\"volume\"]=0\n",
    "df"
   ]
  },
  {
   "cell_type": "markdown",
   "id": "3e98ecfb-204e-45b0-a344-fb193db09461",
   "metadata": {},
   "source": [
    "## TESTS\n"
   ]
  },
  {
   "cell_type": "code",
   "execution_count": 7,
   "id": "9b4b083c-5c79-4db4-94a8-1d2aca93c151",
   "metadata": {},
   "outputs": [
    {
     "data": {
      "text/plain": [
       "[<matplotlib.lines.Line2D at 0x7fc84bf4f0d0>]"
      ]
     },
     "execution_count": 7,
     "metadata": {},
     "output_type": "execute_result"
    },
    {
     "data": {
      "image/png": "[encoded data removed]",
      "text/plain": [
       "<Figure size 640x480 with 1 Axes>"
      ]
     },
     "metadata": {},
     "output_type": "display_data"
    }
   ],
   "source": [
    "plt.plot(df.close)"
   ]
  },
  {
   "cell_type": "code",
   "execution_count": null,
   "id": "c019ff72-cd18-4f97-aee0-611da9c865b3",
   "metadata": {},
   "outputs": [],
   "source": []
  }
 ],
 "metadata": {
  "kernelspec": {
   "display_name": "Python 3 (ipykernel)",
   "language": "python",
   "name": "python3"
  },
  "language_info": {
   "codemirror_mode": {
    "name": "ipython",
    "version": 3
   },
   "file_extension": ".py",
   "mimetype": "text/x-python",
   "name": "python",
   "nbconvert_exporter": "python",
   "pygments_lexer": "ipython3",
   "version": "3.10.11"
  }
 },
 "nbformat": 4,
 "nbformat_minor": 5
}
